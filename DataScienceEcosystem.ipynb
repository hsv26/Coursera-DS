{
 "cells": [
  {
   "cell_type": "markdown",
   "id": "54c5d4fa-eab1-4034-bcea-90e99ed61f6d",
   "metadata": {},
   "source": [
    "# Data Science Tools and Ecosystem"
   ]
  },
  {
   "cell_type": "markdown",
   "id": "e460995c-b4ea-40af-bd42-4e015fa39523",
   "metadata": {},
   "source": [
    "In this notebook, Data Science Tools and Ecosystems are summarized."
   ]
  },
  {
   "cell_type": "markdown",
   "id": "525684e9-9ddb-417b-afcd-46075b8bb3b1",
   "metadata": {},
   "source": [
    "#### Some of the popular languages that Data Science use are:\n",
    "1. Python\n",
    "2. R\n",
    "3. SQL"
   ]
  },
  {
   "cell_type": "markdown",
   "id": "ae2fa62f-4fce-4e82-8f50-750329d07d3b",
   "metadata": {},
   "source": [
    "#### Some of the libraries commonly used by Data Scientists include:\n",
    "1. Pandas\n",
    "2. Numpy\n",
    "3. Seaborn\n",
    "4. Plotly"
   ]
  },
  {
   "cell_type": "markdown",
   "id": "30278bda-f059-418c-ad15-59f767bf523e",
   "metadata": {},
   "source": [
    "Data Science Tools |\n",
    "----------|\n",
    "MLeap |\n",
    "TensorFlow | \n",
    "Apache Airflow"
   ]
  },
  {
   "cell_type": "markdown",
   "id": "b9e1898a-ebbf-4151-9616-6631d6ad6cbe",
   "metadata": {},
   "source": [
    "### Below are a few examples of evaluating arithmetic expressions in Python."
   ]
  },
  {
   "cell_type": "code",
   "execution_count": 5,
   "id": "4e7679da-3f1a-4e34-ab2b-dc4abc63e52b",
   "metadata": {
    "tags": []
   },
   "outputs": [
    {
     "data": {
      "text/plain": [
       "17"
      ]
     },
     "execution_count": 5,
     "metadata": {},
     "output_type": "execute_result"
    }
   ],
   "source": [
    "## This is a simple arithmetic expression to multiply then add integers\n",
    "(3*4) + 5"
   ]
  },
  {
   "cell_type": "code",
   "execution_count": 6,
   "id": "c6276596-3195-4b20-98f1-da7ebb6e9423",
   "metadata": {
    "tags": []
   },
   "outputs": [
    {
     "data": {
      "text/plain": [
       "3.3333333333333335"
      ]
     },
     "execution_count": 6,
     "metadata": {},
     "output_type": "execute_result"
    }
   ],
   "source": [
    "## This will convert 200 minutes to hours by dividing by 60.\n",
    "def min_to_hours(num):\n",
    "    return num/60\n",
    "min_to_hours(200)"
   ]
  },
  {
   "cell_type": "markdown",
   "id": "3d52a374-7009-4b20-b9f7-6108696462ea",
   "metadata": {},
   "source": [
    "**Objectives:**\n",
    "+ list popular languages for data science\n",
    "+ list common libraries for data science\n",
    "+ list data science tools"
   ]
  },
  {
   "cell_type": "markdown",
   "id": "4f8ac832-9913-4681-a803-7b0c748994d8",
   "metadata": {
    "tags": []
   },
   "source": [
    "## Author\n",
    "Shea"
   ]
  }
 ],
 "metadata": {
  "kernelspec": {
   "display_name": "Python",
   "language": "python",
   "name": "conda-env-python-py"
  },
  "language_info": {
   "codemirror_mode": {
    "name": "ipython",
    "version": 3
   },
   "file_extension": ".py",
   "mimetype": "text/x-python",
   "name": "python",
   "nbconvert_exporter": "python",
   "pygments_lexer": "ipython3",
   "version": "3.7.12"
  }
 },
 "nbformat": 4,
 "nbformat_minor": 5
}
